{
 "cells": [
  {
   "cell_type": "code",
   "execution_count": 4,
   "id": "0aa4c7ff",
   "metadata": {
    "tags": []
   },
   "outputs": [],
   "source": [
    "import tensorflow as tf\n",
    "from datetime import datetime"
   ]
  },
  {
   "cell_type": "code",
   "execution_count": 5,
   "id": "93ccc4b0-3e3e-431c-a6b9-f8a50ec03b3a",
   "metadata": {
    "tags": []
   },
   "outputs": [
    {
     "data": {
      "text/plain": [
       "[]"
      ]
     },
     "execution_count": 5,
     "metadata": {},
     "output_type": "execute_result"
    }
   ],
   "source": [
    "tf.config.list_physical_devices('GPU')"
   ]
  },
  {
   "cell_type": "code",
   "execution_count": 13,
   "id": "a5bb966f-029d-4195-86a1-0d02303a691a",
   "metadata": {
    "tags": []
   },
   "outputs": [
    {
     "data": {
      "text/plain": [
       "OrderedDict([('cpu_compiler', '/usr/lib/llvm-16/bin/clang'),\n",
       "             ('cuda_compute_capabilities',\n",
       "              ['sm_35', 'sm_50', 'sm_60', 'sm_70', 'sm_75', 'compute_80']),\n",
       "             ('cuda_version', '11.8'),\n",
       "             ('cudnn_version', '8'),\n",
       "             ('is_cuda_build', True),\n",
       "             ('is_rocm_build', False),\n",
       "             ('is_tensorrt_build', True)])"
      ]
     },
     "execution_count": 13,
     "metadata": {},
     "output_type": "execute_result"
    }
   ],
   "source": [
    "tf.sysconfig.get_build_info() "
   ]
  },
  {
   "cell_type": "code",
   "execution_count": 6,
   "id": "17eea717",
   "metadata": {},
   "outputs": [],
   "source": [
    "n = 10**9"
   ]
  },
  {
   "cell_type": "code",
   "execution_count": 7,
   "id": "37a71ea6",
   "metadata": {},
   "outputs": [],
   "source": [
    "start = datetime.now()"
   ]
  },
  {
   "cell_type": "code",
   "execution_count": 8,
   "id": "6329ae58",
   "metadata": {},
   "outputs": [
    {
     "name": "stderr",
     "output_type": "stream",
     "text": [
      "2023-10-16 12:12:03.383594: W tensorflow/tsl/framework/cpu_allocator_impl.cc:83] Allocation of 8000000000 exceeds 10% of free system memory.\n"
     ]
    }
   ],
   "source": [
    "# Create a tensor of random numbers with shape (n, 2)\n",
    "p = tf.random.uniform([n, 2])"
   ]
  },
  {
   "cell_type": "code",
   "execution_count": 9,
   "id": "a10f927f",
   "metadata": {},
   "outputs": [
    {
     "name": "stderr",
     "output_type": "stream",
     "text": [
      "2023-10-16 12:12:06.091008: W tensorflow/tsl/framework/cpu_allocator_impl.cc:83] Allocation of 8000000000 exceeds 10% of free system memory.\n",
      "2023-10-16 12:12:07.068000: W tensorflow/tsl/framework/cpu_allocator_impl.cc:83] Allocation of 4000000000 exceeds 10% of free system memory.\n",
      "2023-10-16 12:12:09.354570: W tensorflow/tsl/framework/cpu_allocator_impl.cc:83] Allocation of 4000000000 exceeds 10% of free system memory.\n"
     ]
    }
   ],
   "source": [
    "# Calculate the distance to the origin\n",
    "distances = tf.norm(p, axis=1)\n",
    "idx = distances < 1"
   ]
  },
  {
   "cell_type": "code",
   "execution_count": 10,
   "id": "7f94b69b",
   "metadata": {},
   "outputs": [
    {
     "name": "stderr",
     "output_type": "stream",
     "text": [
      "2023-10-16 12:12:10.276962: W tensorflow/tsl/framework/cpu_allocator_impl.cc:83] Allocation of 8000000000 exceeds 10% of free system memory.\n"
     ]
    }
   ],
   "source": [
    "# Calculate the estimate of pi\n",
    "pi = tf.reduce_sum(tf.cast(idx, tf.float64)) / n * 4.0"
   ]
  },
  {
   "cell_type": "code",
   "execution_count": 11,
   "id": "0fef79a1",
   "metadata": {},
   "outputs": [],
   "source": [
    "stop = datetime.now()"
   ]
  },
  {
   "cell_type": "code",
   "execution_count": 12,
   "id": "d94e12b7",
   "metadata": {
    "tags": []
   },
   "outputs": [
    {
     "name": "stdout",
     "output_type": "stream",
     "text": [
      "tf.Tensor(3.141570056, shape=(), dtype=float64) Time: 0:00:08.721201\n"
     ]
    }
   ],
   "source": [
    "# Print the estimate of pi and the time taken to calculate it\n",
    "print(pi, 'Time:', stop - start)"
   ]
  }
 ],
 "metadata": {
  "jupytext": {
   "cell_metadata_filter": "-all",
   "main_language": "python",
   "notebook_metadata_filter": "-all"
  },
  "kernelspec": {
   "display_name": "Python 3 (ipykernel)",
   "language": "python",
   "name": "python3"
  },
  "language_info": {
   "codemirror_mode": {
    "name": "ipython",
    "version": 3
   },
   "file_extension": ".py",
   "mimetype": "text/x-python",
   "name": "python",
   "nbconvert_exporter": "python",
   "pygments_lexer": "ipython3",
   "version": "3.10.13"
  }
 },
 "nbformat": 4,
 "nbformat_minor": 5
}
