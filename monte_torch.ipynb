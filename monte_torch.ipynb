{
 "cells": [
  {
   "cell_type": "code",
   "execution_count": 1,
   "id": "16a556c2",
   "metadata": {
    "tags": []
   },
   "outputs": [],
   "source": [
    "import torch\n",
    "from datetime import datetime"
   ]
  },
  {
   "cell_type": "code",
   "execution_count": 2,
   "id": "b52e2967",
   "metadata": {
    "tags": []
   },
   "outputs": [
    {
     "name": "stdout",
     "output_type": "stream",
     "text": [
      "True\n"
     ]
    }
   ],
   "source": [
    "print(torch.cuda.is_available())"
   ]
  },
  {
   "cell_type": "code",
   "execution_count": 3,
   "id": "e71ff637-89db-4553-be23-23af0afb26cc",
   "metadata": {},
   "outputs": [],
   "source": [
    "device = torch.device(\"cuda:0\" if torch.cuda.is_available() else \"cpu\")"
   ]
  },
  {
   "cell_type": "code",
   "execution_count": 4,
   "id": "5c226c30-3617-4328-bbc4-41c9f66ba1f6",
   "metadata": {
    "tags": []
   },
   "outputs": [
    {
     "data": {
      "text/plain": [
       "device(type='cuda', index=0)"
      ]
     },
     "execution_count": 4,
     "metadata": {},
     "output_type": "execute_result"
    }
   ],
   "source": [
    "device"
   ]
  },
  {
   "cell_type": "code",
   "execution_count": 5,
   "id": "a79eee53",
   "metadata": {
    "tags": []
   },
   "outputs": [],
   "source": [
    "n = 10**7"
   ]
  },
  {
   "cell_type": "code",
   "execution_count": 6,
   "id": "7720fbd8",
   "metadata": {
    "tags": []
   },
   "outputs": [],
   "source": [
    "start = datetime.now()"
   ]
  },
  {
   "cell_type": "code",
   "execution_count": 7,
   "id": "754f76d3",
   "metadata": {
    "tags": []
   },
   "outputs": [],
   "source": [
    "# Create a tensor of random numbers with shape (n, 2)\n",
    "p = torch.rand(n, 2).to(device)"
   ]
  },
  {
   "cell_type": "code",
   "execution_count": 9,
   "id": "0ce881c1",
   "metadata": {
    "tags": []
   },
   "outputs": [],
   "source": [
    "# Calculate the distance to the origin\n",
    "distances = torch.norm(p, dim=1).to(device)\n",
    "idx = distances < 1.0"
   ]
  },
  {
   "cell_type": "code",
   "execution_count": 10,
   "id": "13d352a2",
   "metadata": {
    "tags": []
   },
   "outputs": [],
   "source": [
    "# Calculate the estimate of pi\n",
    "pi = torch.sum(idx, dtype=torch.float64).to(device) / n * 4.0"
   ]
  },
  {
   "cell_type": "code",
   "execution_count": 11,
   "id": "a095c9c9",
   "metadata": {
    "tags": []
   },
   "outputs": [],
   "source": [
    "stop = datetime.now()"
   ]
  },
  {
   "cell_type": "code",
   "execution_count": 12,
   "id": "a140c0bd",
   "metadata": {
    "lines_to_next_cell": 2,
    "tags": []
   },
   "outputs": [
    {
     "name": "stdout",
     "output_type": "stream",
     "text": [
      "3.1419264 Time: 0:00:00.361992\n"
     ]
    }
   ],
   "source": [
    "# Print the estimate of pi and the time taken to calculate it\n",
    "print(pi.item(), 'Time:', stop - start)"
   ]
  },
  {
   "cell_type": "code",
   "execution_count": null,
   "id": "cd396c1c-1bf0-41ec-adf3-8eba54c8c24e",
   "metadata": {},
   "outputs": [],
   "source": []
  }
 ],
 "metadata": {
  "jupytext": {
   "cell_metadata_filter": "-all",
   "main_language": "python",
   "notebook_metadata_filter": "-all"
  },
  "kernelspec": {
   "display_name": "Python 3 (ipykernel)",
   "language": "python",
   "name": "python3"
  },
  "language_info": {
   "codemirror_mode": {
    "name": "ipython",
    "version": 3
   },
   "file_extension": ".py",
   "mimetype": "text/x-python",
   "name": "python",
   "nbconvert_exporter": "python",
   "pygments_lexer": "ipython3",
   "version": "3.10.13"
  }
 },
 "nbformat": 4,
 "nbformat_minor": 5
}
